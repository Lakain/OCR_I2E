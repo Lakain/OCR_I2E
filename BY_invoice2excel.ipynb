{
 "cells": [
  {
   "cell_type": "code",
   "execution_count": 1,
   "metadata": {},
   "outputs": [],
   "source": [
    "import pandas as pd\n",
    "import json, os"
   ]
  },
  {
   "cell_type": "code",
   "execution_count": 5,
   "metadata": {},
   "outputs": [],
   "source": [
    "invoiceNo = '869706'\n",
    "BY_INVOICE_ADDRESS = os.getenv('BY_INVOICE_ADDRESS')"
   ]
  },
  {
   "cell_type": "code",
   "execution_count": 6,
   "metadata": {},
   "outputs": [],
   "source": [
    "df = pd.read_html(BY_INVOICE_ADDRESS+invoiceNo)"
   ]
  },
  {
   "cell_type": "code",
   "execution_count": 7,
   "metadata": {},
   "outputs": [],
   "source": [
    "itemList = df[9].drop(columns=[4,5], axis=1)"
   ]
  },
  {
   "cell_type": "code",
   "execution_count": 8,
   "metadata": {},
   "outputs": [],
   "source": [
    "itemList.columns = itemList.iloc[0]\n",
    "itemList = itemList[1:].reset_index(drop=True)\n",
    "itemList['DESCRIPTION'] = itemList['DESCRIPTION'].str.split(',')"
   ]
  },
  {
   "cell_type": "code",
   "execution_count": 9,
   "metadata": {},
   "outputs": [],
   "source": [
    "new_list = pd.DataFrame(columns=['Item', 'QTY', 'Color', 'Price'])\n",
    "\n",
    "# Expand items list\n",
    "for i in range(len(itemList)):\n",
    "    for des in itemList['DESCRIPTION'][i]:\n",
    "        des = des.strip()\n",
    "        if des == '#1' or des == '#2':\n",
    "            continue\n",
    "        else:\n",
    "            color, qty = des.split(':')\n",
    "            new_list.loc[len(new_list)] = [itemList['ITEM'][i], qty, color.strip('#'), itemList['UNIT PRICE'][i]]\n",
    "\n",
    "new_list['QTY'] = new_list['QTY'].str.replace('\\(.\\)', '', regex=True)\n",
    "new_list.drop(new_list[new_list['QTY']=='0'].index, inplace=True)"
   ]
  },
  {
   "cell_type": "code",
   "execution_count": 10,
   "metadata": {},
   "outputs": [
    {
     "name": "stdout",
     "output_type": "stream",
     "text": [
      "WARNING *** file size (5316480) not 512 + multiple of sector size (512)\n"
     ]
    }
   ],
   "source": [
    "# Load BY inventory list\n",
    "\n",
    "BY_list = pd.read_excel('test_data\\BY_InventoryListAll.xls', skiprows=3)\n",
    "\n",
    "# Preprocessing\n",
    "BY_list = BY_list[['Item Name', 'Color', 'Barcode']]\n",
    "BY_list['Item'] = BY_list['Item Name'].str.replace(' ', '')\n",
    "BY_list['Item'] = BY_list['Item'].str.replace('-', '')\n",
    "BY_list['Item'] = BY_list['Item'].str.replace('TOP', 'TP')\n",
    "BY_list['Item'] = BY_list['Item'].str.replace('TPSDM', 'TOPSDM')"
   ]
  },
  {
   "cell_type": "code",
   "execution_count": 11,
   "metadata": {},
   "outputs": [],
   "source": [
    "new_list = new_list.merge(BY_list, how='left', left_on=['Item', 'Color'], right_on=['Item', 'Color'])"
   ]
  },
  {
   "cell_type": "code",
   "execution_count": null,
   "metadata": {},
   "outputs": [],
   "source": [
    "try:\n",
    "    os.mkdir('./'+invoiceNo)\n",
    "except:\n",
    "    print(f'{invoiceNo} directory already exist!')\n",
    "\n",
    "df_receiving = new_list[['Barcode', 'QTY', 'Price']]\n",
    "df_receiving.columns=['Code', 'Qty on Ord', 'Cost']\n",
    "\n",
    "df_receiving.to_csv(f'{invoiceNo}/{invoiceNo}_receiving.txt', sep='\\t',index=False)"
   ]
  },
  {
   "cell_type": "code",
   "execution_count": null,
   "metadata": {},
   "outputs": [],
   "source": [
    "df_new_item = new_list[['Barcode']]\n",
    "df_new_item.insert(loc=len(df_new_item.columns),column='Description', value=new_list['Item Name'].str.cat(' '+new_list['Color']))\n",
    "df_new_item.insert(loc=len(df_new_item.columns), column='Ext Desc', value=new_list['Item Name'].str.cat(' #'+new_list['Color']))\n",
    "df_new_item.insert(loc=len(df_new_item.columns), column='Cost', value=new_list['Price'].str.strip('$ '))\n",
    "df_new_item.insert(loc=len(df_new_item.columns), column='Regular Price', value=0)\n",
    "df_new_item.insert(loc=len(df_new_item.columns), column='Department', value=pd.NA)\n",
    "\n",
    "df_new_item.to_csv(f'{invoiceNo}/{invoiceNo}_new_item.txt', sep='\\t', index=False)"
   ]
  },
  {
   "cell_type": "code",
   "execution_count": null,
   "metadata": {},
   "outputs": [],
   "source": [
    "df_supplier = new_list[['Barcode']]\n",
    "df_supplier.insert(loc=len(df_supplier.columns),column='Cost', value=new_list['Price'])\n",
    "df_supplier.insert(loc=len(df_supplier.columns),column='ReorderNo', value=new_list['Item Name'])\n",
    "df_supplier.insert(loc=len(df_supplier.columns),column='MinimumOrder', value=0)\n",
    "df_supplier.insert(loc=len(df_supplier.columns),column='MPQ', value=0)\n",
    "\n",
    "df_supplier.to_csv(f'{invoiceNo}/{invoiceNo}_supplier.txt', sep='\\t', index=False)"
   ]
  },
  {
   "cell_type": "code",
   "execution_count": null,
   "metadata": {},
   "outputs": [],
   "source": [
    "new_list"
   ]
  },
  {
   "cell_type": "code",
   "execution_count": null,
   "metadata": {},
   "outputs": [],
   "source": []
  }
 ],
 "metadata": {
  "kernelspec": {
   "display_name": "OCR",
   "language": "python",
   "name": "python3"
  },
  "language_info": {
   "codemirror_mode": {
    "name": "ipython",
    "version": 3
   },
   "file_extension": ".py",
   "mimetype": "text/x-python",
   "name": "python",
   "nbconvert_exporter": "python",
   "pygments_lexer": "ipython3",
   "version": "3.10.13"
  }
 },
 "nbformat": 4,
 "nbformat_minor": 2
}
