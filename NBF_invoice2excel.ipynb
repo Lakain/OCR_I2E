{
 "cells": [
  {
   "cell_type": "code",
   "execution_count": 1,
   "metadata": {},
   "outputs": [],
   "source": [
    "from tkinter.filedialog import askopenfilename\n",
    "import PyPDF2, re, os\n",
    "import pandas as pd"
   ]
  },
  {
   "cell_type": "code",
   "execution_count": 2,
   "metadata": {},
   "outputs": [],
   "source": [
    "# Define the columns\n",
    "columns = [\n",
    "    'Item Code',\n",
    "    'Description',\n",
    "    'Qty Order',\n",
    "    'BackOrder',\n",
    "    'Shipped',\n",
    "    'Unit Price',\n",
    "    'Total'\n",
    "]"
   ]
  },
  {
   "cell_type": "code",
   "execution_count": 3,
   "metadata": {},
   "outputs": [],
   "source": [
    "# Function to extract text from a PDF file\n",
    "def extract_text_from_pdf(file_path):\n",
    "    pdf_text = \"\"\n",
    "    invoiceNo = \"\"\n",
    "    with open(file_path, \"rb\") as file:\n",
    "        reader = PyPDF2.PdfReader(file)\n",
    "        for page_num in range(len(reader.pages)):\n",
    "            page = reader.pages[page_num]\n",
    "            text = page.extract_text()\n",
    "            if invoiceNo == \"\":\n",
    "                invoiceNo = re.search(r'PSI\\d{5}', text).group()\n",
    "            if page_num == len(reader.pages)-1:\n",
    "                pdf_text += text[67:text.find('Remark')]\n",
    "            elif page_num == 0:\n",
    "                pdf_text += text[67:text.find('SOLD TO')]\n",
    "            else:\n",
    "                pdf_text += text[67:text.find('Printed Date')]\n",
    "    return pdf_text, invoiceNo"
   ]
  },
  {
   "cell_type": "code",
   "execution_count": 4,
   "metadata": {},
   "outputs": [],
   "source": [
    "# Function to parse the extracted text and extract invoice data\n",
    "def parse_invoice_data(pdf_text):\n",
    "    lines = pdf_text.split(\"\\n\")\n",
    "    cursor = 0\n",
    "    invoice_data = []\n",
    "    row_data = []\n",
    "    for line in lines:\n",
    "        if cursor%len(columns) == 0 and row_data != []:\n",
    "            invoice_data.append(row_data)\n",
    "            row_data = []\n",
    "\n",
    "        if cursor%len(columns) == 2 and not line.isnumeric():\n",
    "            row_data[-1] += line\n",
    "        elif cursor%len(columns) == 4:\n",
    "            if '$' in line:\n",
    "                row_data.append('0')\n",
    "                cursor += 1\n",
    "            row_data.append(line)\n",
    "            cursor += 1\n",
    "        else:\n",
    "            row_data.append(line)\n",
    "            cursor += 1\n",
    "    return invoice_data"
   ]
  },
  {
   "cell_type": "code",
   "execution_count": 5,
   "metadata": {},
   "outputs": [],
   "source": [
    "# root_path = \"Z:/excel files/00 RMH Sale report/\"\n",
    "root_path = ''\n",
    "\n",
    "# Extract text from the PDF\n",
    "# file_path = askopenfilename(initialdir='.')\n",
    "file_path = 'test_data/Chade Invoice 01.pdf'\n",
    "pdf_text, invoiceNo = extract_text_from_pdf(file_path)\n",
    "\n",
    "os.mkdir('./'+invoiceNo)"
   ]
  },
  {
   "cell_type": "code",
   "execution_count": 6,
   "metadata": {},
   "outputs": [],
   "source": [
    "# Parse the extracted text to get invoice data\n",
    "invoice_data = parse_invoice_data(pdf_text)"
   ]
  },
  {
   "cell_type": "code",
   "execution_count": 7,
   "metadata": {},
   "outputs": [],
   "source": [
    "# Create a DataFrame\n",
    "df = pd.DataFrame(invoice_data, columns=columns)\n",
    "df['Item Code'] = df['Item Code'].str.slice(stop=18)"
   ]
  },
  {
   "cell_type": "code",
   "execution_count": 8,
   "metadata": {},
   "outputs": [],
   "source": [
    "NBF_list = pd.read_excel(root_path+'inv_data/NBF_Chade Fashions.xlsx')\n",
    "NBF_list['Item Code'] = NBF_list['No.'].str.slice(stop=18)"
   ]
  },
  {
   "cell_type": "code",
   "execution_count": 9,
   "metadata": {},
   "outputs": [],
   "source": [
    "df = df.merge(NBF_list[['Item Code', 'No.', 'UPC Code']], how='left')"
   ]
  },
  {
   "cell_type": "code",
   "execution_count": 10,
   "metadata": {},
   "outputs": [],
   "source": [
    "df['Item'] = pd.NA\n",
    "df['Color'] = pd.NA\n",
    "for row in df.iterrows():\n",
    "    Item, Color = row[1]['No.'].split('-')\n",
    "    df.loc[row[0], 'Item'] = Item\n",
    "    df.loc[row[0], 'Color'] = Color"
   ]
  },
  {
   "cell_type": "code",
   "execution_count": 11,
   "metadata": {},
   "outputs": [],
   "source": [
    "# Create receiving file.\n",
    "df_receiving = df[['UPC Code', 'Shipped', 'Unit Price']]\n",
    "df_receiving.columns=['Code', 'Qty on Ord', 'Cost']\n",
    "df_receiving.loc[:, 'Cost'] = df_receiving['Cost'].str.strip('$ ')\n",
    "df_receiving = df_receiving[df_receiving['Qty on Ord']!='0'].reset_index()"
   ]
  },
  {
   "cell_type": "code",
   "execution_count": 12,
   "metadata": {},
   "outputs": [],
   "source": [
    "df_receiving.to_csv(f'{invoiceNo}/{invoiceNo}_receiving.txt', sep='\\t', index=False)"
   ]
  },
  {
   "cell_type": "code",
   "execution_count": 13,
   "metadata": {},
   "outputs": [],
   "source": [
    "# Create new item file.\n",
    "df_new_item = df[['UPC Code']]\n",
    "df_new_item.columns = ['Barcode']\n",
    "df_new_item.insert(loc=len(df_new_item.columns),column='Description', value=df['Item'].str.cat(' '+df['Color']))\n",
    "df_new_item.insert(loc=len(df_new_item.columns), column='Ext Desc', value=df['Description'].str.cat(' #'+df['Color']))\n",
    "df_new_item.insert(loc=len(df_new_item.columns), column='Cost', value=df['Unit Price'].str.strip('$ '))\n",
    "df_new_item.insert(loc=len(df_new_item.columns), column='Regular Price', value=0)\n",
    "df_new_item.insert(loc=len(df_new_item.columns), column='Department', value=pd.NA)"
   ]
  },
  {
   "cell_type": "code",
   "execution_count": 14,
   "metadata": {},
   "outputs": [],
   "source": [
    "df_new_item.to_csv(f'{invoiceNo}/{invoiceNo}_new_item.txt', sep='\\t', index=False)"
   ]
  },
  {
   "cell_type": "code",
   "execution_count": 15,
   "metadata": {},
   "outputs": [],
   "source": [
    "df_supplier = df[['UPC Code']]\n",
    "df_supplier.columns = ['Barcode']\n",
    "df_supplier.insert(loc=len(df_supplier.columns),column='Cost', value=df['Unit Price'])\n",
    "df_supplier.insert(loc=len(df_supplier.columns),column='ReorderNo', value=df['Item'])\n",
    "df_supplier.insert(loc=len(df_supplier.columns),column='MinimumOrder', value=0)\n",
    "df_supplier.insert(loc=len(df_supplier.columns),column='MPQ', value=0)"
   ]
  },
  {
   "cell_type": "code",
   "execution_count": 16,
   "metadata": {},
   "outputs": [],
   "source": [
    "df_supplier.to_csv(f'{invoiceNo}/{invoiceNo}_supplier.txt', sep='\\t', index=False)"
   ]
  },
  {
   "cell_type": "code",
   "execution_count": null,
   "metadata": {},
   "outputs": [],
   "source": []
  }
 ],
 "metadata": {
  "kernelspec": {
   "display_name": "pyside6",
   "language": "python",
   "name": "python3"
  },
  "language_info": {
   "codemirror_mode": {
    "name": "ipython",
    "version": 3
   },
   "file_extension": ".py",
   "mimetype": "text/x-python",
   "name": "python",
   "nbconvert_exporter": "python",
   "pygments_lexer": "ipython3",
   "version": "3.11.8"
  }
 },
 "nbformat": 4,
 "nbformat_minor": 2
}
