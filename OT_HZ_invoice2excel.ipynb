{
 "cells": [
  {
   "cell_type": "code",
   "execution_count": 1,
   "metadata": {},
   "outputs": [],
   "source": [
    "from tkinter.filedialog import askdirectory\n",
    "import pandas as pd"
   ]
  },
  {
   "cell_type": "code",
   "execution_count": 2,
   "metadata": {},
   "outputs": [],
   "source": [
    "temp = askdirectory()"
   ]
  },
  {
   "cell_type": "code",
   "execution_count": 2,
   "metadata": {},
   "outputs": [],
   "source": [
    "path = 'test_data/HZ_sample.xls'"
   ]
  },
  {
   "cell_type": "code",
   "execution_count": 3,
   "metadata": {},
   "outputs": [],
   "source": [
    "df = pd.read_html(path, displayed_only=False)[0]"
   ]
  },
  {
   "cell_type": "code",
   "execution_count": 4,
   "metadata": {},
   "outputs": [],
   "source": [
    "invoiceNo = df['InvoiceCode'][0]\n",
    "df_receiving = df[['Barcode', 'Qty', 'Price']]\n",
    "df_receiving.columns=['Code', 'Qty on Ord', 'Cost']\n",
    "df_receiving.loc[:, 'Cost'] = df_receiving['Cost'].str.strip('$ ')"
   ]
  },
  {
   "cell_type": "code",
   "execution_count": 5,
   "metadata": {},
   "outputs": [],
   "source": [
    "df_receiving.to_csv(f'{invoiceNo}_receiving.csv', index=False)"
   ]
  },
  {
   "cell_type": "code",
   "execution_count": 6,
   "metadata": {},
   "outputs": [],
   "source": [
    "df_new_item = df[['Barcode']]\n",
    "df_new_item.insert(loc=len(df_new_item.columns),column= 'Description', value=df['Item'].str.cat(' '+df['Color']))\n",
    "df_new_item.insert(loc=len(df_new_item.columns), column= 'Ext Desc', value=df['Item'].str.cat(' #'+df['Color']))\n",
    "df_new_item.insert(loc=len(df_new_item.columns), column='Cost', value=df['Price'].str.strip('$ '))\n",
    "df_new_item.insert(loc=len(df_new_item.columns), column='Regular Price', value=0)\n",
    "df_new_item.insert(loc=len(df_new_item.columns), column='Reorder No', value=df['Item'])\n",
    "df_new_item.insert(loc=len(df_new_item.columns), column='Department', value=pd.NA)"
   ]
  },
  {
   "cell_type": "code",
   "execution_count": 1,
   "metadata": {},
   "outputs": [
    {
     "ename": "NameError",
     "evalue": "name 'df_receiving' is not defined",
     "output_type": "error",
     "traceback": [
      "\u001b[1;31m---------------------------------------------------------------------------\u001b[0m",
      "\u001b[1;31mNameError\u001b[0m                                 Traceback (most recent call last)",
      "Cell \u001b[1;32mIn[1], line 1\u001b[0m\n\u001b[1;32m----> 1\u001b[0m \u001b[43mdf_receiving\u001b[49m\u001b[38;5;241m.\u001b[39mto_csv(\u001b[38;5;124mf\u001b[39m\u001b[38;5;124m'\u001b[39m\u001b[38;5;132;01m{\u001b[39;00minvoiceNo\u001b[38;5;132;01m}\u001b[39;00m\u001b[38;5;124m_new_item.csv\u001b[39m\u001b[38;5;124m'\u001b[39m, index\u001b[38;5;241m=\u001b[39m\u001b[38;5;28;01mFalse\u001b[39;00m)\n",
      "\u001b[1;31mNameError\u001b[0m: name 'df_receiving' is not defined"
     ]
    }
   ],
   "source": [
    "df_receiving.to_csv(f'{invoiceNo}_new_item.csv', index=False)"
   ]
  },
  {
   "cell_type": "code",
   "execution_count": null,
   "metadata": {},
   "outputs": [],
   "source": []
  }
 ],
 "metadata": {
  "kernelspec": {
   "display_name": "OCR",
   "language": "python",
   "name": "python3"
  },
  "language_info": {
   "codemirror_mode": {
    "name": "ipython",
    "version": 3
   },
   "file_extension": ".py",
   "mimetype": "text/x-python",
   "name": "python",
   "nbconvert_exporter": "python",
   "pygments_lexer": "ipython3",
   "version": "3.11.8"
  }
 },
 "nbformat": 4,
 "nbformat_minor": 2
}
