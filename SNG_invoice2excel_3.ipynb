{
 "cells": [
  {
   "cell_type": "code",
   "execution_count": 17,
   "metadata": {},
   "outputs": [],
   "source": [
    "import re, os\n",
    "import pandas as pd"
   ]
  },
  {
   "cell_type": "code",
   "execution_count": 18,
   "metadata": {},
   "outputs": [],
   "source": [
    "file_path = 'test_data/3000286815-IVC(06272024).xlsx'\n",
    "# file_path = 'test_data/3000288028-IVC(06282024).xlsx'\n",
    "# file_path = 'test_data/3000288218-IVC(06282024).xlsx'\n",
    "# file_path = 'test_data/3000289220-IVC(07022024).xlsx'"
   ]
  },
  {
   "cell_type": "code",
   "execution_count": 19,
   "metadata": {},
   "outputs": [],
   "source": [
    "invoiceNo = re.search('\\d{10}', file_path).group()\n",
    "try:\n",
    "    os.mkdir(invoiceNo)\n",
    "except:\n",
    "    print('Directory already exist.')"
   ]
  },
  {
   "cell_type": "code",
   "execution_count": 20,
   "metadata": {},
   "outputs": [],
   "source": [
    "df = pd.read_excel(file_path)"
   ]
  },
  {
   "cell_type": "code",
   "execution_count": 21,
   "metadata": {},
   "outputs": [
    {
     "data": {
      "text/html": [
       "<div>\n",
       "<style scoped>\n",
       "    .dataframe tbody tr th:only-of-type {\n",
       "        vertical-align: middle;\n",
       "    }\n",
       "\n",
       "    .dataframe tbody tr th {\n",
       "        vertical-align: top;\n",
       "    }\n",
       "\n",
       "    .dataframe thead th {\n",
       "        text-align: right;\n",
       "    }\n",
       "</style>\n",
       "<table border=\"1\" class=\"dataframe\">\n",
       "  <thead>\n",
       "    <tr style=\"text-align: right;\">\n",
       "      <th></th>\n",
       "      <th>Barcode</th>\n",
       "      <th>QtyShipped</th>\n",
       "      <th>UnitPrice</th>\n",
       "      <th>Description</th>\n",
       "      <th>QtyOrd</th>\n",
       "      <th>StyleID</th>\n",
       "      <th>Color</th>\n",
       "      <th>ItemNo</th>\n",
       "    </tr>\n",
       "  </thead>\n",
       "  <tbody>\n",
       "    <tr>\n",
       "      <th>0</th>\n",
       "      <td>196720109328</td>\n",
       "      <td>4</td>\n",
       "      <td>23.0</td>\n",
       "      <td>HR FREETRESS DEEP BULK 14\"</td>\n",
       "      <td>4</td>\n",
       "      <td>SFTDB14</td>\n",
       "      <td>1</td>\n",
       "      <td>SFTDB14-1</td>\n",
       "    </tr>\n",
       "    <tr>\n",
       "      <th>1</th>\n",
       "      <td>196720109342</td>\n",
       "      <td>4</td>\n",
       "      <td>23.0</td>\n",
       "      <td>HR FREETRESS DEEP BULK 14\"</td>\n",
       "      <td>4</td>\n",
       "      <td>SFTDB14</td>\n",
       "      <td>1B</td>\n",
       "      <td>SFTDB14-1B</td>\n",
       "    </tr>\n",
       "    <tr>\n",
       "      <th>2</th>\n",
       "      <td>196720109359</td>\n",
       "      <td>4</td>\n",
       "      <td>23.0</td>\n",
       "      <td>HR FREETRESS DEEP BULK 14\"</td>\n",
       "      <td>4</td>\n",
       "      <td>SFTDB14</td>\n",
       "      <td>2</td>\n",
       "      <td>SFTDB14-2</td>\n",
       "    </tr>\n",
       "    <tr>\n",
       "      <th>3</th>\n",
       "      <td>196720109380</td>\n",
       "      <td>2</td>\n",
       "      <td>23.0</td>\n",
       "      <td>HR FREETRESS DEEP BULK 14\"</td>\n",
       "      <td>2</td>\n",
       "      <td>SFTDB14</td>\n",
       "      <td>4</td>\n",
       "      <td>SFTDB14-4</td>\n",
       "    </tr>\n",
       "    <tr>\n",
       "      <th>4</th>\n",
       "      <td>196720109366</td>\n",
       "      <td>2</td>\n",
       "      <td>25.0</td>\n",
       "      <td>HR FREETRESS DEEP BULK 14\"</td>\n",
       "      <td>2</td>\n",
       "      <td>SFTDB14</td>\n",
       "      <td>27</td>\n",
       "      <td>SFTDB14-27</td>\n",
       "    </tr>\n",
       "  </tbody>\n",
       "</table>\n",
       "</div>"
      ],
      "text/plain": [
       "        Barcode  QtyShipped  UnitPrice                 Description  QtyOrd  \\\n",
       "0  196720109328           4       23.0  HR FREETRESS DEEP BULK 14\"       4   \n",
       "1  196720109342           4       23.0  HR FREETRESS DEEP BULK 14\"       4   \n",
       "2  196720109359           4       23.0  HR FREETRESS DEEP BULK 14\"       4   \n",
       "3  196720109380           2       23.0  HR FREETRESS DEEP BULK 14\"       2   \n",
       "4  196720109366           2       25.0  HR FREETRESS DEEP BULK 14\"       2   \n",
       "\n",
       "   StyleID Color      ItemNo  \n",
       "0  SFTDB14     1   SFTDB14-1  \n",
       "1  SFTDB14    1B  SFTDB14-1B  \n",
       "2  SFTDB14     2   SFTDB14-2  \n",
       "3  SFTDB14     4   SFTDB14-4  \n",
       "4  SFTDB14    27  SFTDB14-27  "
      ]
     },
     "execution_count": 21,
     "metadata": {},
     "output_type": "execute_result"
    }
   ],
   "source": [
    "df.head()"
   ]
  },
  {
   "cell_type": "code",
   "execution_count": 22,
   "metadata": {},
   "outputs": [],
   "source": [
    "df_receiving = df[['Barcode', 'QtyShipped', 'UnitPrice']]\n",
    "df_receiving.columns=['Code', 'Qty on Ord', 'Cost']"
   ]
  },
  {
   "cell_type": "code",
   "execution_count": 23,
   "metadata": {},
   "outputs": [],
   "source": [
    "df_receiving.to_csv(f'{invoiceNo}/{invoiceNo}_receiving.txt', sep='\\t',index=False)"
   ]
  },
  {
   "cell_type": "code",
   "execution_count": 24,
   "metadata": {},
   "outputs": [],
   "source": [
    "df_new_item = df[['Barcode']]\n",
    "df_new_item.insert(loc=len(df_new_item.columns),column='Description', value=df['StyleID'].str.cat(' '+df['Color']))\n",
    "df_new_item.insert(loc=len(df_new_item.columns), column='Ext Desc', value=df['Description'].str.cat(' #'+df['Color']))\n",
    "df_new_item.insert(loc=len(df_new_item.columns), column='Cost', value=df['UnitPrice'])\n",
    "df_new_item.insert(loc=len(df_new_item.columns), column='Regular Price', value=0)\n",
    "df_new_item.insert(loc=len(df_new_item.columns), column='Department', value=pd.NA)"
   ]
  },
  {
   "cell_type": "code",
   "execution_count": 25,
   "metadata": {},
   "outputs": [],
   "source": [
    "df_new_item.to_csv(f'{invoiceNo}/{invoiceNo}_new_item.txt', sep='\\t', index=False)"
   ]
  },
  {
   "cell_type": "code",
   "execution_count": 26,
   "metadata": {},
   "outputs": [],
   "source": [
    "df_supplier = df[['Barcode']]\n",
    "df_supplier.insert(loc=len(df_supplier.columns),column='Cost', value=df['UnitPrice'])\n",
    "df_supplier.insert(loc=len(df_supplier.columns),column='ReorderNo', value=df['StyleID'])\n",
    "df_supplier.insert(loc=len(df_supplier.columns),column='MinimumOrder', value=0)\n",
    "df_supplier.insert(loc=len(df_supplier.columns),column='MPQ', value=0)"
   ]
  },
  {
   "cell_type": "code",
   "execution_count": 27,
   "metadata": {},
   "outputs": [],
   "source": [
    "df_supplier.to_csv(f'{invoiceNo}/{invoiceNo}_supplier.txt', sep='\\t', index=False)"
   ]
  },
  {
   "cell_type": "code",
   "execution_count": null,
   "metadata": {},
   "outputs": [],
   "source": []
  }
 ],
 "metadata": {
  "kernelspec": {
   "display_name": "OCR",
   "language": "python",
   "name": "python3"
  },
  "language_info": {
   "codemirror_mode": {
    "name": "ipython",
    "version": 3
   },
   "file_extension": ".py",
   "mimetype": "text/x-python",
   "name": "python",
   "nbconvert_exporter": "python",
   "pygments_lexer": "ipython3",
   "version": "3.11.8"
  }
 },
 "nbformat": 4,
 "nbformat_minor": 2
}
